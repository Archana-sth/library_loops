{
 "cells": [
  {
   "cell_type": "markdown",
   "id": "0182b639",
   "metadata": {},
   "source": [
    "# Smarter Book Filter\n",
    "Let’s build on your previous challenge and make your book filter more flexible and user-friendly.\n",
    "\n",
    "In this version, the user can:\n",
    "\n",
    "- input a starting letter\n",
    "\n",
    "- only show books that are \"Available\"\n",
    "\n",
    "- see how many matching books were found in total"
   ]
  },
  {
   "cell_type": "code",
   "execution_count": 1,
   "id": "4c9d94ce",
   "metadata": {},
   "outputs": [],
   "source": [
    "# Define the dictionary with books and their availability\n",
    "library = {\n",
    "    \"The Hobbit\": \"Available\",\n",
    "    \"Slaughterhouse-Five\": \"Available\",\n",
    "    \"Moby Dick\": \"Available\",\n",
    "    \"The Catcher in the Rye\": \"Checked Out\",\n",
    "    \"Siddhartha\": \"Checked Out\",\n",
    "    \"Meditations\": \"Checked Out\",\n",
    "    \"Things Fall Apart\": \"Available\",\n",
    "    \"To Kill a Mockingbird\": \"Checked Out\",\n",
    "    \"Pride and Prejudice\": \"Available\",\n",
    "    \"Jane Eyre\": \"Checked Out\",\n",
    "    \"The Great Gatsby\": \"Available\",\n",
    "    \"War and Peace\": \"Checked Out\",\n",
    "    \"Crime and Punishment\": \"Available\",\n",
    "    \"Brave New World\": \"Available\",\n",
    "    \"A Tale of Two Cities\": \"Checked Out\",\n",
    "    \"Animal Farm\": \"Available\",\n",
    "    \"Dracula\": \"Checked Out\",\n",
    "    \"Frankenstein\": \"Available\",\n",
    "    \"The Road\": \"Available\",\n",
    "    \"The Alchemist\": \"Checked Out\"\n",
    "}"
   ]
  },
  {
   "cell_type": "code",
   "execution_count": 2,
   "id": "cf535404",
   "metadata": {},
   "outputs": [
    {
     "data": {
      "text/plain": [
       "'# user input of starting letter\\nstarting_letter = input(\"enter the starting letter of book : \")\\n\\n#count of book that is \"Available\"\\ncount = 0\\nfor book, status in library.items():\\n        if status == \"Available\" and book.startswith(starting_letter) :\\n            print (book)\\n            count += 1\\nprint (f\"Total book with starting letter {starting_letter} is {count}\")'"
      ]
     },
     "execution_count": 2,
     "metadata": {},
     "output_type": "execute_result"
    }
   ],
   "source": [
    "'''# user input of starting letter\n",
    "starting_letter = input(\"enter the starting letter of book : \")\n",
    "\n",
    "#count of book that is \"Available\"\n",
    "count = 0\n",
    "for book, status in library.items():\n",
    "        if status == \"Available\" and book.startswith(starting_letter) :\n",
    "            print (book)\n",
    "            count += 1\n",
    "print (f\"Total book with starting letter {starting_letter} is {count}\")'''"
   ]
  },
  {
   "cell_type": "markdown",
   "id": "32b33fe9",
   "metadata": {},
   "source": [
    "Seen below is our original filter"
   ]
  },
  {
   "cell_type": "code",
   "execution_count": 3,
   "id": "457e82ad",
   "metadata": {},
   "outputs": [
    {
     "name": "stdout",
     "output_type": "stream",
     "text": [
      "Books that start with 'T':\n",
      "The Hobbit\n",
      "The Catcher in the Rye\n",
      "Things Fall Apart\n",
      "To Kill a Mockingbird\n",
      "The Great Gatsby\n",
      "The Road\n",
      "The Alchemist\n"
     ]
    }
   ],
   "source": [
    "# Finding and printing books that start with 'T'\n",
    "print(\"Books that start with 'T':\")\n",
    "for book in library.keys():  \n",
    "    if book.startswith(\"T\"):  \n",
    "        print(book)"
   ]
  },
  {
   "cell_type": "markdown",
   "id": "2c82fdb5",
   "metadata": {},
   "source": [
    "### Follow along each step to complete the challenge! Put your code below the comments"
   ]
  },
  {
   "cell_type": "markdown",
   "id": "94ee443a",
   "metadata": {},
   "source": [
    "## Step 1 : Get the User's Input"
   ]
  },
  {
   "cell_type": "code",
   "execution_count": 4,
   "id": "e8e66e9c",
   "metadata": {},
   "outputs": [],
   "source": [
    "# Ask the user for a letter to search for.\n",
    "# Use .upper() and .strip() so it works even if they enter lowercase or spaces.\n",
    "# Example: If the user types \" t \", it should become \"T\".\n",
    "\n",
    "letter = input(\"enter the starting letter of book : \").upper().strip()"
   ]
  },
  {
   "cell_type": "markdown",
   "id": "8282cc53",
   "metadata": {},
   "source": [
    "## Step 2: Initialize a counter"
   ]
  },
  {
   "cell_type": "code",
   "execution_count": 5,
   "id": "d43dc487",
   "metadata": {},
   "outputs": [],
   "source": [
    "# Create a variable to keep track of how many books match the search.\n",
    "\n",
    "count = 0"
   ]
  },
  {
   "cell_type": "markdown",
   "id": "e90a8008",
   "metadata": {},
   "source": [
    "## Step 3: Display a header message"
   ]
  },
  {
   "cell_type": "code",
   "execution_count": 6,
   "id": "2f25ac31",
   "metadata": {},
   "outputs": [
    {
     "name": "stdout",
     "output_type": "stream",
     "text": [
      "\n",
      "Books starting with  that are Available:\n"
     ]
    }
   ],
   "source": [
    "# Print a friendly message before listing the results. (Just run this cell, no need to make changes)\n",
    "print(f\"\\nBooks starting with {letter} that are Available:\")"
   ]
  },
  {
   "cell_type": "markdown",
   "id": "38ae8116",
   "metadata": {},
   "source": [
    "## Step 4: Search through the dictionary"
   ]
  },
  {
   "cell_type": "code",
   "execution_count": 7,
   "id": "d72e5d27",
   "metadata": {},
   "outputs": [
    {
     "name": "stdout",
     "output_type": "stream",
     "text": [
      "The Hobbit\n",
      "Slaughterhouse-Five\n",
      "Moby Dick\n",
      "Things Fall Apart\n",
      "Pride and Prejudice\n",
      "The Great Gatsby\n",
      "Crime and Punishment\n",
      "Brave New World\n",
      "Animal Farm\n",
      "Frankenstein\n",
      "The Road\n"
     ]
    }
   ],
   "source": [
    "# Loop through the book dictionary to check each title.\n",
    "# Example: for title, status in library.items():\n",
    "# If the title starts with the chosen letter and the status is \"Available\",\n",
    "# print the title and increase match_count by 1.\n",
    "\n",
    "for title, status in library.items():\n",
    "    if title.startswith(letter) and status == \"Available\":\n",
    "        print(title)\n",
    "        count += 1"
   ]
  },
  {
   "cell_type": "markdown",
   "id": "04a96ce9",
   "metadata": {},
   "source": [
    "## checked-out books"
   ]
  },
  {
   "cell_type": "code",
   "execution_count": 8,
   "id": "d330d254",
   "metadata": {},
   "outputs": [
    {
     "name": "stdout",
     "output_type": "stream",
     "text": [
      "The Catcher in the Rye\n",
      "Siddhartha\n",
      "Meditations\n",
      "To Kill a Mockingbird\n",
      "Jane Eyre\n",
      "War and Peace\n",
      "A Tale of Two Cities\n",
      "Dracula\n",
      "The Alchemist\n"
     ]
    }
   ],
   "source": [
    "# for the books that are already checked-out\n",
    "for title, status in library.items():\n",
    "    if title.startswith(letter) and status == \"Checked Out\":\n",
    "        print(title)"
   ]
  },
  {
   "cell_type": "code",
   "execution_count": 9,
   "id": "704ea457",
   "metadata": {},
   "outputs": [
    {
     "name": "stdout",
     "output_type": "stream",
     "text": [
      "The Hobbit\n",
      "Slaughterhouse-Five\n",
      "Moby Dick\n",
      "The Catcher in the Rye\n",
      "Siddhartha\n",
      "Meditations\n",
      "Things Fall Apart\n",
      "To Kill a Mockingbird\n",
      "Pride and Prejudice\n",
      "Jane Eyre\n",
      "The Great Gatsby\n",
      "War and Peace\n",
      "Crime and Punishment\n",
      "Brave New World\n",
      "A Tale of Two Cities\n",
      "Animal Farm\n",
      "Dracula\n",
      "Frankenstein\n",
      "The Road\n",
      "The Alchemist\n"
     ]
    }
   ],
   "source": [
    "#to show all the books\n",
    "for title, status in library.items():\n",
    "    print(title)"
   ]
  },
  {
   "cell_type": "markdown",
   "id": "5f69b543",
   "metadata": {},
   "source": [
    "## Step 5: Show total matches"
   ]
  },
  {
   "cell_type": "code",
   "execution_count": 10,
   "id": "6a4b6b15",
   "metadata": {},
   "outputs": [
    {
     "name": "stdout",
     "output_type": "stream",
     "text": [
      "The total match for book starts with  is : 11 \n"
     ]
    }
   ],
   "source": [
    "# After the loop, print how many books matched.\n",
    "\n",
    "print(f\"The total match for book starts with {letter} is : {count} \")"
   ]
  },
  {
   "cell_type": "code",
   "execution_count": 11,
   "id": "82b7ec8e",
   "metadata": {},
   "outputs": [
    {
     "name": "stdout",
     "output_type": "stream",
     "text": [
      " book added: abc, and the status is : available\n",
      "{'The Hobbit': 'Available', 'Slaughterhouse-Five': 'Available', 'Moby Dick': 'Available', 'The Catcher in the Rye': 'Checked Out', 'Siddhartha': 'Checked Out', 'Meditations': 'Checked Out', 'Things Fall Apart': 'Available', 'To Kill a Mockingbird': 'Checked Out', 'Pride and Prejudice': 'Available', 'Jane Eyre': 'Checked Out', 'The Great Gatsby': 'Available', 'War and Peace': 'Checked Out', 'Crime and Punishment': 'Available', 'Brave New World': 'Available', 'A Tale of Two Cities': 'Checked Out', 'Animal Farm': 'Available', 'Dracula': 'Checked Out', 'Frankenstein': 'Available', 'The Road': 'Available', 'The Alchemist': 'Checked Out', 'abc': 'available'}\n"
     ]
    }
   ],
   "source": [
    "# add new book along with availability\n",
    "\n",
    "title = input(\"enter new book\")\n",
    "status = input(\"enter status : Available or Checked out\" )\n",
    "\n",
    "library[title] = status \n",
    "print(f\" book added: {title}, and the status is : {status}\")\n",
    "print(library)"
   ]
  },
  {
   "cell_type": "code",
   "execution_count": 12,
   "id": "46553bf5",
   "metadata": {},
   "outputs": [
    {
     "name": "stdout",
     "output_type": "stream",
     "text": [
      "{'The Hobbit': 'Checked out', 'Slaughterhouse-Five': 'Available', 'Moby Dick': 'Available', 'The Catcher in the Rye': 'Checked Out', 'Siddhartha': 'Checked Out', 'Meditations': 'Checked Out', 'Things Fall Apart': 'Available', 'To Kill a Mockingbird': 'Checked Out', 'Pride and Prejudice': 'Available', 'Jane Eyre': 'Checked Out', 'The Great Gatsby': 'Available', 'War and Peace': 'Checked Out', 'Crime and Punishment': 'Available', 'Brave New World': 'Available', 'A Tale of Two Cities': 'Checked Out', 'Animal Farm': 'Available', 'Dracula': 'Checked Out', 'Frankenstein': 'Available', 'The Road': 'Available', 'The Alchemist': 'Checked Out', 'abc': 'available'}\n"
     ]
    }
   ],
   "source": [
    "#change the status\n",
    "title = input(\"enter the book name\")\n",
    "new_status = input(\"enter the new status: Available or Checked out\")\n",
    "\n",
    "if title in library:\n",
    "    library[title] = new_status\n",
    "print(library)\n",
    "\n",
    "\n"
   ]
  },
  {
   "cell_type": "markdown",
   "id": "45bf0af5",
   "metadata": {},
   "source": [
    "# Great job!\n",
    "\n",
    "You’ve built a flexible book filter using a dictionary, conditionals, string methods, and a for loop. Nice work applying what you've learned.\n",
    "\n",
    "This is not required, but if you’d like to go further and make this project more advanced, try one (or all) of these ideas:\n",
    "\n",
    "- Let the user input more than one starting letter (e.g., \"T,S,M\")\n",
    "- Allow the user to choose whether to filter by \"Available\", \"Checked Out\", or show all books\n",
    "- Let users add new books to the dictionary along with their availability status\n",
    "- Give users the ability to change the status of an existing book (for example, from \"Checked Out\" to \"Available\")\n",
    "\n",
    "Try adding one feature at a time to build your skills. \n"
   ]
  }
 ],
 "metadata": {
  "kernelspec": {
   "display_name": "Python 3",
   "language": "python",
   "name": "python3"
  },
  "language_info": {
   "codemirror_mode": {
    "name": "ipython",
    "version": 3
   },
   "file_extension": ".py",
   "mimetype": "text/x-python",
   "name": "python",
   "nbconvert_exporter": "python",
   "pygments_lexer": "ipython3",
   "version": "3.13.7"
  }
 },
 "nbformat": 4,
 "nbformat_minor": 5
}
